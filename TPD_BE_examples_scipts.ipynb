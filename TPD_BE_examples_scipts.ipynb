{
 "cells": [
  {
   "cell_type": "markdown",
   "metadata": {},
   "source": [
    "HEADER\n",
    "\n",
    "Required installed python packages:\n",
    "- ```pandas```\n",
    "- ```numpy```\n",
    "- ```ase```\n",
    "- ```matplotlib```\n",
    "- ```scipy```\n",
    "\n",
    "the functions called in the examples are inside ```lib.py``` library file and are import with \"```from lib import```\" instance."
   ]
  },
  {
   "cell_type": "markdown",
   "metadata": {},
   "source": [
    "Examples of the functions that read frequencies from different files (ORCA.hess, g98.out, table.csv) and create a numpy 1D array:"
   ]
  },
  {
   "cell_type": "code",
   "execution_count": null,
   "metadata": {},
   "outputs": [],
   "source": [
    "from lib import read_freq_gaussian, read_freq_orca, read_freq_from_csv\n",
    "\n",
    "freq_h2o = read_freq_orca('data/H2O/h2o.hess')\n",
    "print('H2O freq:   ' + str(freq_h2o))\n",
    "freq_nh3 = read_freq_gaussian('data/NH3/nh3.log')\n",
    "print('NH3 freq:   ' + str(freq_nh3))\n",
    "freq_ch3oh = read_freq_from_csv('data/freq_methanol_periodic.csv','mol_iso_cry')\n",
    "print('CH3OH freq: ' + str(freq_ch3oh))"
   ]
  },
  {
   "cell_type": "markdown",
   "metadata": {},
   "source": [
    "Examples of reading ```.xyz``` file with ASE and computed mass and inertia moments:"
   ]
  },
  {
   "cell_type": "code",
   "execution_count": null,
   "metadata": {},
   "outputs": [],
   "source": [
    "from ase.io import read\n",
    "\n",
    "methanol = read('data/CH3OH/ch3oh.xyz')\n",
    "mass\t = methanol.get_masses().sum()\n",
    "print('Methanol mass [AMU]: ' + str(mass))\n",
    "inertia_moments = methanol.get_moments_of_inertia()\n",
    "print('Methanol inertia moments [AMU*A^2]: ' + str(inertia_moments))"
   ]
  },
  {
   "cell_type": "markdown",
   "metadata": {},
   "source": [
    "Example of ZPE correction and Thermal correction to the Binding Energy:"
   ]
  },
  {
   "cell_type": "code",
   "execution_count": null,
   "metadata": {},
   "outputs": [],
   "source": [
    "import pandas as pd\n",
    "import numpy as np\n",
    "import matplotlib.pyplot as plt\n",
    "from lib import read_freq_from_csv, BH_t, ZPE\n",
    "\n",
    "### PARAMETERS and INITIALIZATION ###\n",
    "step \t\t\t= 10\t#Temperature steps\n",
    "t_in \t\t\t= 10\t#Initial Temperature\n",
    "t_fin\t\t\t= 310\t#Final Temperature\n",
    "T \t\t\t\t= np.arange(t_in, t_fin, step,dtype=float) #1D numpy array of Temperature values\n",
    "tmp_correction\t= np.arange(t_in, t_fin, step,dtype=float) #1D numpy array of correction to BE Temperature values\n",
    "\n",
    "### INPUT INFORMATION ###\n",
    "ch3oh_be\t\t\t= 70.1965 #BE without ZPE correction\n",
    "ch3oh_csv_path\t\t= 'data/freq_methanol_periodic.csv'\n",
    "\n",
    "### READ FREQUENCIES ###\n",
    "freq_isolated_mol \t= read_freq_from_csv(ch3oh_csv_path,'mol_iso_cry')\n",
    "freq_isolated_surf \t= read_freq_from_csv(ch3oh_csv_path,'CH3OH_cry_ref')\n",
    "freq_complex\t \t= read_freq_from_csv(ch3oh_csv_path,'CH3OH_cry_complex')\n",
    "\n",
    "### ZPE correction to BE ###\n",
    "zpe_BE \t\t\t= ZPE(freq_isolated_mol) + ZPE(freq_isolated_surf) - ZPE(freq_complex)\n",
    "print('ZPE correction to BE: ' + str(zpe_BE))\n",
    "BH_0 \t\t\t= ch3oh_be + zpe_BE\n",
    "print('BH(0):                 ' + str(BH_0))\n",
    "\n",
    "### COMPUTE THE THERMAL CORRECTION TO THE BE ###\n",
    "for i in range(len(T)):\n",
    "\ttmp_correction[i]\t= BH_t(T[i],freq_isolated_mol,freq_isolated_surf,freq_complex,False)\n",
    "\n",
    "### SAVE THERMAL CORRECTION and BH(T) in .csv file ####\n",
    "df_tmp = pd.DataFrame()\n",
    "df_tmp['T'] \t\t\t= T\n",
    "df_tmp['Delta_BH_t']\t= tmp_correction\n",
    "BH_T \t\t\t\t\t= tmp_correction + BH_0\n",
    "df_tmp['BH_t']\t\t\t= BH_T\n",
    "with open(\"tmp/BH_t.csv\",\"w+\") as output:\n",
    "\toutput.write(df_tmp.to_csv(sep=\"\\t\", index=False))\n",
    "\n",
    "### PLOT THE THERMAL CORRECTION ####\n",
    "fig, ax = plt.subplots(figsize=(7,5))\n",
    "ax.plot(T, tmp_correction,color='magenta',linewidth=5,label='Thermal correction')\n",
    "#ax.plot(T, BH_T,color='orange',linewidth=5,label='BH(T)')\n",
    "ax.set_xlabel('T [K]', fontsize=15)\n",
    "ax.set_ylabel('BH(T)-BH(0) kJ/mol', fontsize=15)\n",
    "ax.yaxis.set_tick_params(labelsize=15)\n",
    "ax.xaxis.set_tick_params(labelsize=15)\n",
    "ax.legend(fontsize=15)\n",
    "plt.title('BE Thermal corretion')\n",
    "ax.grid()\n",
    "plt.show()"
   ]
  },
  {
   "cell_type": "markdown",
   "metadata": {},
   "source": [
    "Convert pandas reaction network dataframe to graph raction network with species and reaction as different type of nodes"
   ]
  },
  {
   "cell_type": "code",
   "execution_count": null,
   "metadata": {},
   "outputs": [],
   "source": []
  },
  {
   "cell_type": "markdown",
   "metadata": {},
   "source": [
    "- path_to_molecules_database \t\t--> path to the molecules database\n",
    "- path_to_network\t\t\t\t\t--> path to the network to be clean\n",
    "- threshold_endothermicity_kJmol\t--> threshold to determined the reactions to be deleted for endothermicity (in kJ/mol)"
   ]
  },
  {
   "cell_type": "code",
   "execution_count": null,
   "metadata": {},
   "outputs": [],
   "source": []
  }
 ],
 "metadata": {
  "interpreter": {
   "hash": "a629c9d794f1aa97af0a2d65ef4cd06ea353724a7f8a46b6ec2131443fc9393f"
  },
  "kernelspec": {
   "display_name": "Python 3.7.10 ('base')",
   "language": "python",
   "name": "python3"
  },
  "language_info": {
   "codemirror_mode": {
    "name": "ipython",
    "version": 3
   },
   "file_extension": ".py",
   "mimetype": "text/x-python",
   "name": "python",
   "nbconvert_exporter": "python",
   "pygments_lexer": "ipython3",
   "version": "3.7.10"
  },
  "orig_nbformat": 4
 },
 "nbformat": 4,
 "nbformat_minor": 2
}
